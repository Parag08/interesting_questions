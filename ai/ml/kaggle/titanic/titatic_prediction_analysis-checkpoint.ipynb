{
 "cells": [
  {
   "cell_type": "code",
   "execution_count": 2,
   "metadata": {
    "collapsed": true
   },
   "outputs": [],
   "source": [
    "#import libraries\n",
    "import numpy as np\n",
    "import pandas as pd"
   ]
  },
  {
   "cell_type": "code",
   "execution_count": 25,
   "metadata": {},
   "outputs": [],
   "source": [
    "#load data as dataframes\n",
    "test_data = pd.read_csv('./test.csv',index_col=False)\n",
    "train_data = pd.read_csv ('./train.csv', index_col=False)"
   ]
  },
  {
   "cell_type": "code",
   "execution_count": 23,
   "metadata": {},
   "outputs": [],
   "source": [
    "#looking at data"
   ]
  },
  {
   "cell_type": "code",
   "execution_count": 38,
   "metadata": {
    "collapsed": true
   },
   "outputs": [],
   "source": [
    "def drop_and_purge(table,colums_to_drop):\n",
    "    for col in colums_to_drop:\n",
    "        try:\n",
    "            del table[col]\n",
    "        except KeyError as exp:\n",
    "            print('colum',exp,'not found in table')\n",
    "    table.dropna()"
   ]
  },
  {
   "cell_type": "code",
   "execution_count": 46,
   "metadata": {},
   "outputs": [],
   "source": [
    "def quantise(table,dict_to_quantize):\n",
    "    '''takes table and dict {column_name:[{value_in_table:value_to_replace_with}]}\n",
    "    example:- quantise(table,{Sex:[{male:1},{female:0}]}) will replace male and female in Sex column of table with 1 and 0'''\n",
    "    for val in dict_to_quantize:\n",
    "        for string_to_replace in dict_to_quantize[val]:\n",
    "            value_to_replace_with = dict_to_quantize[val][string_to_replace]\n",
    "            table[val].replace(string_to_replace,value_to_replace_with,inplace=True)"
   ]
  },
  {
   "cell_type": "code",
   "execution_count": 39,
   "metadata": {},
   "outputs": [
    {
     "name": "stdout",
     "output_type": "stream",
     "text": [
      "key 'Name' not found in table\n",
      "key 'Ticket' not found in table\n",
      "key 'Cabin' not found in table\n",
      "key 'PassengerId' not found in table\n",
      "key 'Fare' not found in table\n",
      "key 'Age' not found in table\n"
     ]
    }
   ],
   "source": [
    "#test drop_and_purge functions\n",
    "coloums_to_drop = ['Name','Ticket','Cabin','PassengerId','Fare','Age']\n",
    "drop_and_purge(test_data,coloums_to_drop)"
   ]
  },
  {
   "cell_type": "code",
   "execution_count": 41,
   "metadata": {},
   "outputs": [
    {
     "name": "stdout",
     "output_type": "stream",
     "text": [
      "   Pclass     Sex  SibSp  Parch Embarked\n",
      "0       3    male      0      0        Q\n",
      "1       3  female      1      0        S\n",
      "2       2    male      0      0        Q\n",
      "3       3    male      0      0        S\n",
      "4       3  female      1      1        S\n"
     ]
    }
   ],
   "source": [
    "print(test_data.head())"
   ]
  },
  {
   "cell_type": "code",
   "execution_count": 47,
   "metadata": {},
   "outputs": [
    {
     "name": "stdout",
     "output_type": "stream",
     "text": [
      "     Pclass     Sex  SibSp  Parch Embarked\n",
      "0         3    male      0      0        Q\n",
      "1         3  female      1      0        S\n",
      "2         2    male      0      0        Q\n",
      "3         3    male      0      0        S\n",
      "4         3  female      1      1        S\n",
      "5         3    male      0      0        S\n",
      "6         3  female      0      0        Q\n",
      "7         2    male      1      1        S\n",
      "8         3  female      0      0        C\n",
      "9         3    male      2      0        S\n",
      "10        3    male      0      0        S\n",
      "11        1    male      0      0        S\n",
      "12        1  female      1      0        S\n",
      "13        2    male      1      0        S\n",
      "14        1  female      1      0        S\n",
      "15        2  female      1      0        C\n",
      "16        2    male      0      0        Q\n",
      "17        3    male      0      0        C\n",
      "18        3  female      1      0        S\n",
      "19        3  female      0      0        C\n",
      "20        1    male      1      0        C\n",
      "21        3    male      0      1        S\n",
      "22        1  female      0      0        S\n",
      "23        1    male      0      1        C\n",
      "24        1  female      1      3        C\n",
      "25        3    male      1      0        S\n",
      "26        1  female      0      1        C\n",
      "27        3    male      0      0        C\n",
      "28        1    male      0      0        S\n",
      "29        3    male      2      0        C\n",
      "..      ...     ...    ...    ...      ...\n",
      "388       3    male      0      0        Q\n",
      "389       3    male      3      1        S\n",
      "390       1    male      0      0        S\n",
      "391       1  female      0      1        S\n",
      "392       3    male      0      2        S\n",
      "393       2    male      0      0        S\n",
      "394       3    male      3      1        S\n",
      "395       1  female      1      0        S\n",
      "396       3    male      0      0        Q\n",
      "397       1  female      1      1        C\n",
      "398       3    male      0      0        S\n",
      "399       3    male      0      0        Q\n",
      "400       1  female      0      0        S\n",
      "401       2    male      1      0        S\n",
      "402       1  female      0      1        C\n",
      "403       1    male      0      0        S\n",
      "404       1    male      1      0        C\n",
      "405       2    male      0      0        C\n",
      "406       2    male      1      0        S\n",
      "407       1    male      1      1        C\n",
      "408       3  female      0      0        Q\n",
      "409       3  female      1      1        S\n",
      "410       3  female      0      0        Q\n",
      "411       1  female      1      0        Q\n",
      "412       3  female      0      0        S\n",
      "413       3    male      0      0        S\n",
      "414       1  female      0      0        C\n",
      "415       3    male      0      0        S\n",
      "416       3    male      0      0        S\n",
      "417       3    male      1      1        C\n",
      "\n",
      "[418 rows x 5 columns]\n"
     ]
    }
   ],
   "source": [
    "quantise(test_data,{'Sex':{'male':10,'female':20}})\n",
    "print(test_data)"
   ]
  }
 ],
 "metadata": {
  "kernelspec": {
   "display_name": "Python 3",
   "language": "python",
   "name": "python3"
  },
  "language_info": {
   "codemirror_mode": {
    "name": "ipython",
    "version": 3
   },
   "file_extension": ".py",
   "mimetype": "text/x-python",
   "name": "python",
   "nbconvert_exporter": "python",
   "pygments_lexer": "ipython3",
   "version": "3.6.1"
  }
 },
 "nbformat": 4,
 "nbformat_minor": 2
}
