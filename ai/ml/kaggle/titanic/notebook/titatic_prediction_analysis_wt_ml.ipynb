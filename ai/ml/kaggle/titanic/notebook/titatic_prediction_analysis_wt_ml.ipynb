{
 "cells": [
  {
   "cell_type": "code",
   "execution_count": 1,
   "metadata": {},
   "outputs": [],
   "source": [
    "#import libraries\n",
    "import numpy as np\n",
    "import pandas as pd\n",
    "import matplotlib.pyplot as plt\n",
    "from sklearn import datasets, svm,  tree, preprocessing, metrics"
   ]
  },
  {
   "cell_type": "code",
   "execution_count": 2,
   "metadata": {},
   "outputs": [],
   "source": [
    "#load data as dataframes\n",
    "test_data = pd.read_csv('./test.csv',index_col=False)\n",
    "train_data = pd.read_csv ('./train.csv', index_col=False)"
   ]
  },
  {
   "cell_type": "code",
   "execution_count": 3,
   "metadata": {},
   "outputs": [],
   "source": [
    "#looking at data"
   ]
  },
  {
   "cell_type": "code",
   "execution_count": 4,
   "metadata": {
    "collapsed": true
   },
   "outputs": [],
   "source": [
    "def drop_and_purge(table,colums_to_drop,purge=True):\n",
    "    for col in colums_to_drop:\n",
    "        try:\n",
    "            del table[col]\n",
    "        except KeyError as exp:\n",
    "            print('colum',exp,'not found in table')\n",
    "    if purge:\n",
    "        table.dropna()"
   ]
  },
  {
   "cell_type": "code",
   "execution_count": 5,
   "metadata": {},
   "outputs": [],
   "source": [
    "def quantise(table,dict_to_quantize):\n",
    "    '''takes table and dict {column_name:[{value_in_table:value_to_replace_with}]}\n",
    "    example:- quantise(table,{Sex:[{male:1},{female:0}]}) will replace male and female in Sex column of table with 1 and 0'''\n",
    "    for val in dict_to_quantize:\n",
    "        for string_to_replace in dict_to_quantize[val]:\n",
    "            value_to_replace_with = dict_to_quantize[val][string_to_replace]\n",
    "            table[val].replace(string_to_replace,value_to_replace_with,inplace=True)"
   ]
  },
  {
   "cell_type": "code",
   "execution_count": 6,
   "metadata": {},
   "outputs": [],
   "source": [
    "#test drop_and_purge functions\n",
    "coloums_to_drop = ['Name','Ticket','Cabin','Fare']\n",
    "drop_and_purge(test_data,coloums_to_drop,purge=False)\n",
    "drop_and_purge(train_data,coloums_to_drop)"
   ]
  },
  {
   "cell_type": "code",
   "execution_count": 7,
   "metadata": {},
   "outputs": [
    {
     "name": "stdout",
     "output_type": "stream",
     "text": [
      "   PassengerId  Pclass     Sex   Age  SibSp  Parch Embarked\n",
      "0          892       3    male  34.5      0      0        Q\n",
      "1          893       3  female  47.0      1      0        S\n",
      "2          894       2    male  62.0      0      0        Q\n",
      "3          895       3    male  27.0      0      0        S\n",
      "4          896       3  female  22.0      1      1        S\n",
      "   PassengerId  Survived  Pclass     Sex   Age  SibSp  Parch Embarked\n",
      "0            1         0       3    male  22.0      1      0        S\n",
      "1            2         1       1  female  38.0      1      0        C\n",
      "2            3         1       3  female  26.0      0      0        S\n",
      "3            4         1       1  female  35.0      1      0        S\n",
      "4            5         0       3    male  35.0      0      0        S\n"
     ]
    }
   ],
   "source": [
    "print(test_data.head())\n",
    "print(train_data.head())"
   ]
  },
  {
   "cell_type": "code",
   "execution_count": 8,
   "metadata": {},
   "outputs": [
    {
     "name": "stdout",
     "output_type": "stream",
     "text": [
      "   PassengerId  Pclass  Sex   Age  SibSp  Parch  Embarked\n",
      "0          892       3    1  34.5      0      0         0\n",
      "1          893       3    0  47.0      1      0         2\n",
      "2          894       2    1  62.0      0      0         0\n",
      "3          895       3    1  27.0      0      0         2\n",
      "4          896       3    0  22.0      1      1         2\n",
      "   PassengerId  Survived  Pclass  Sex   Age  SibSp  Parch  Embarked\n",
      "0            1         0       3    1  22.0      1      0       2.0\n",
      "1            2         1       1    0  38.0      1      0       1.0\n",
      "2            3         1       3    0  26.0      0      0       2.0\n",
      "3            4         1       1    0  35.0      1      0       2.0\n",
      "4            5         0       3    1  35.0      0      0       2.0\n"
     ]
    }
   ],
   "source": [
    "quantise(test_data,{'Sex':{'male':1,'female':0}})\n",
    "quantise(test_data,{'Embarked':{'Q':0,'C':1,'S':2}})\n",
    "quantise(train_data,{'Sex':{'male':1,'female':0}})\n",
    "quantise(train_data,{'Embarked':{'Q':0,'C':1,'S':2}})\n",
    "print(test_data.head())\n",
    "print(train_data.head())"
   ]
  },
  {
   "cell_type": "code",
   "execution_count": 9,
   "metadata": {},
   "outputs": [
    {
     "name": "stdout",
     "output_type": "stream",
     "text": [
      "577\n"
     ]
    }
   ],
   "source": [
    "data_dist_sex = train_data['Sex'].value_counts()\n",
    "print(data_dist_sex[1])"
   ]
  },
  {
   "cell_type": "code",
   "execution_count": 10,
   "metadata": {},
   "outputs": [
    {
     "name": "stdout",
     "output_type": "stream",
     "text": [
      "109 233\n"
     ]
    }
   ],
   "source": [
    "male_survived = 0\n",
    "female_survived = 0\n",
    "for index, row in train_data.iterrows():\n",
    "    if row['Survived'] == 1:\n",
    "        if row['Sex'] == 1:\n",
    "            male_survived = male_survived + 1\n",
    "        else:\n",
    "            female_survived = female_survived + 1\n",
    "print(male_survived,female_survived)"
   ]
  },
  {
   "cell_type": "code",
   "execution_count": 11,
   "metadata": {},
   "outputs": [],
   "source": [
    "def survivedCalc(prob):\n",
    "    random = np.random.choice([0, 1], p=[1-prob, prob])\n",
    "    #print(random)\n",
    "    return random"
   ]
  },
  {
   "cell_type": "code",
   "execution_count": 12,
   "metadata": {},
   "outputs": [],
   "source": [
    "perct_male_survived = male_survived/data_dist_sex[1]\n",
    "perct_female_survived = female_survived/data_dist_sex[0]"
   ]
  },
  {
   "cell_type": "code",
   "execution_count": 13,
   "metadata": {},
   "outputs": [],
   "source": [
    "sLength = len(test_data['Sex'])\n",
    "test_data['Survived'] = pd.Series(np.zeros(sLength,dtype=np.int8), index=test_data.index)\n",
    "for index, row in test_data.iterrows():\n",
    "    if row['Sex'] == 'male':\n",
    "        val = survivedCalc(perct_male_survived)\n",
    "        test_data = test_data.set_value(index,'Survived',val)\n",
    "    else:\n",
    "        val = survivedCalc(perct_female_survived)\n",
    "        test_data = test_data.set_value(index,'Survived',val)"
   ]
  },
  {
   "cell_type": "code",
   "execution_count": 14,
   "metadata": {},
   "outputs": [
    {
     "name": "stdout",
     "output_type": "stream",
     "text": [
      "   PassengerId  Pclass  Sex   Age  SibSp  Parch  Embarked  Survived\n",
      "0          892       3    1  34.5      0      0         0         1\n",
      "1          893       3    0  47.0      1      0         2         1\n",
      "2          894       2    1  62.0      0      0         0         0\n",
      "3          895       3    1  27.0      0      0         2         1\n",
      "4          896       3    0  22.0      1      1         2         0\n"
     ]
    }
   ],
   "source": [
    "print(test_data.head())\n",
    "#gensubmission = pd.DataFrame(0,index=[i for i in range (0,sLength)],columns=['PassengerId','Survived'])"
   ]
  },
  {
   "cell_type": "code",
   "execution_count": 15,
   "metadata": {},
   "outputs": [],
   "source": [
    "gensubmission = test_data[['PassengerId', 'Survived']].copy()\n",
    "gensubmission.to_csv('./submission.csv',index=False)\n"
   ]
  },
  {
   "cell_type": "code",
   "execution_count": 16,
   "metadata": {},
   "outputs": [
    {
     "data": {
      "image/png": "[encoded data removed]",
      "text/plain": [
       "<matplotlib.figure.Figure at 0x2962f3bab70>"
      ]
     },
     "metadata": {},
     "output_type": "display_data"
    }
   ],
   "source": [
    "train_data['Survived'].mean()\n",
    "class_sex_grouping = train_data.groupby(['Pclass','Sex']).mean()\n",
    "class_sex_grouping\n",
    "class_sex_grouping['Survived'].plot.bar()\n",
    "\n",
    "plt.show()"
   ]
  },
  {
   "cell_type": "code",
   "execution_count": 17,
   "metadata": {},
   "outputs": [
    {
     "data": {
      "image/png": "[encoded data removed]",
      "text/plain": [
       "<matplotlib.figure.Figure at 0x2962f432940>"
      ]
     },
     "metadata": {},
     "output_type": "display_data"
    }
   ],
   "source": [
    "group_by_age = pd.cut(train_data[\"Age\"], np.arange(0, 90, 10))\n",
    "age_grouping = train_data.groupby(group_by_age).mean()\n",
    "age_grouping['Survived'].plot.bar()\n",
    "\n",
    "plt.show()"
   ]
  },
  {
   "cell_type": "code",
   "execution_count": 25,
   "metadata": {},
   "outputs": [
    {
     "name": "stdout",
     "output_type": "stream",
     "text": [
      "   PassengerId  Survived  Pclass  Sex   Age  SibSp  Parch  Embarked\n",
      "0            1         0       3    1  22.0      1      0       2.0\n",
      "1            2         1       1    0  38.0      1      0       1.0\n",
      "2            3         1       3    0  26.0      0      0       2.0\n",
      "3            4         1       1    0  35.0      1      0       2.0\n",
      "4            5         0       3    1  35.0      0      0       2.0\n"
     ]
    },
    {
     "data": {
      "text/plain": [
       "DecisionTreeClassifier(class_weight=None, criterion='gini', max_depth=10,\n",
       "            max_features=None, max_leaf_nodes=None,\n",
       "            min_impurity_split=1e-07, min_samples_leaf=1,\n",
       "            min_samples_split=2, min_weight_fraction_leaf=0.0,\n",
       "            presort=False, random_state=None, splitter='best')"
      ]
     },
     "execution_count": 25,
     "metadata": {},
     "output_type": "execute_result"
    }
   ],
   "source": [
    "clf_dt = tree.DecisionTreeClassifier(max_depth=10)\n",
    "train_data = train_data.dropna()\n",
    "print(train_data.head())\n",
    "Y = train_data['Survived'].values\n",
    "X = train_data.drop(['Survived','PassengerId'], axis=1).values\n",
    "\n",
    "\n",
    "clf_dt.fit (X, Y)\n",
    "clf_dt."
   ]
  },
  {
   "cell_type": "code",
   "execution_count": 38,
   "metadata": {},
   "outputs": [],
   "source": [
    "for index, row in test_data.iterrows():\n",
    "    if row.isnull().values.any() == False:\n",
    "        data = row[[ 'Pclass' , 'Sex','Age','SibSp','Parch','Embarked']]\n",
    "        data = data.values\n",
    "        val = clf_dt.predict(data.reshape(-1,6))\n",
    "        test_data = test_data.set_value(index,'Survived',val)\n",
    "    else:\n",
    "        val = np.random.choice([0, 1], p=[0.5, 0.5])\n",
    "        test_data = test_data.set_value(index,'Survived',val)"
   ]
  },
  {
   "cell_type": "code",
   "execution_count": 39,
   "metadata": {
    "collapsed": true
   },
   "outputs": [],
   "source": [
    "gensubmission = test_data[['PassengerId', 'Survived']].copy()\n",
    "gensubmission.to_csv('./DSsubmission.csv',index=False)"
   ]
  }
 ],
 "metadata": {
  "kernelspec": {
   "display_name": "Python 3",
   "language": "python",
   "name": "python3"
  },
  "language_info": {
   "codemirror_mode": {
    "name": "ipython",
    "version": 3
   },
   "file_extension": ".py",
   "mimetype": "text/x-python",
   "name": "python",
   "nbconvert_exporter": "python",
   "pygments_lexer": "ipython3",
   "version": "3.6.1"
  }
 },
 "nbformat": 4,
 "nbformat_minor": 2
}
